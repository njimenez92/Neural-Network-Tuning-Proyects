{
 "cells": [
  {
   "cell_type": "markdown",
   "id": "a8efa859",
   "metadata": {},
   "source": [
    "# 🧠 Neural Network Tuning (MNIST)\n",
    "\n",
    "Este notebook tiene como objetivo experimentar con hiperparámetros de una red neuronal utilizando Keras y el dataset MNIST.\n",
    "\n",
    "### Objetivos:\n",
    "- Explorar cómo la cantidad de neuronas y capas afectan el rendimiento\n",
    "- Observar el impacto del tamaño del batch y la tasa de aprendizaje\n",
    "- Obtener el mejor modelo posible en términos de accuracy\n",
    "\n",
    "---\n",
    "\n",
    "🔧 *Este cuaderno fue mejorado como parte de una contribución open source, agregando explicaciones y estructura clara para facilitar su comprensión.*\n"
   ]
  },
  {
   "cell_type": "code",
   "execution_count": null,
   "id": "3b2f0112",
   "metadata": {
    "vscode": {
     "languageId": "plaintext"
    }
   },
   "outputs": [],
   "source": [
    "import numpy as np\n",
    "import pandas as pd\n",
    "from keras.models import Sequential\n",
    "from keras.layers import Dense\n",
    "from keras.wrappers.scikit_learn import KerasClassifier\n",
    "from sklearn.model_selection import GridSearchCV\n"
   ]
  }
 ],
 "metadata": {
  "language_info": {
   "name": "python"
  }
 },
 "nbformat": 4,
 "nbformat_minor": 5
}
